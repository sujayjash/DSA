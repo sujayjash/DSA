{
 "cells": [
  {
   "cell_type": "markdown",
   "id": "3849c0ba",
   "metadata": {},
   "source": [
    "### Algorithmic Complexity"
   ]
  },
  {
   "cell_type": "markdown",
   "id": "b166294a",
   "metadata": {},
   "source": [
    "Writing efficient algos/code\n",
    "How to measure \n",
    "\n",
    "What is effeciency in Programming?\n",
    "Program which takes Less time and less space\n",
    "\n",
    "For eg. Google is the most effecient web search engine because of its page rank algo\n",
    "\n",
    "Saving time and space impacts alot in large scale thus very important to be effecient. \n",
    "\n"
   ]
  },
  {
   "cell_type": "markdown",
   "id": "c231f83a",
   "metadata": {},
   "source": [
    "#### Time Complexity"
   ]
  },
  {
   "cell_type": "markdown",
   "id": "1f923fd5",
   "metadata": {},
   "source": [
    "##### Measuring time \n",
    "\n"
   ]
  },
  {
   "cell_type": "code",
   "execution_count": 4,
   "id": "95ef9c6e",
   "metadata": {},
   "outputs": [
    {
     "name": "stdout",
     "output_type": "stream",
     "text": [
      "1\n",
      "2\n",
      "3\n",
      "4\n",
      "5\n",
      "6\n",
      "7\n",
      "8\n",
      "9\n",
      "10\n",
      "11\n",
      "12\n",
      "13\n",
      "14\n",
      "15\n",
      "16\n",
      "17\n",
      "18\n",
      "19\n",
      "20\n",
      "21\n",
      "22\n",
      "23\n",
      "24\n",
      "25\n",
      "26\n",
      "27\n",
      "28\n",
      "29\n",
      "30\n",
      "31\n",
      "32\n",
      "33\n",
      "34\n",
      "35\n",
      "36\n",
      "37\n",
      "38\n",
      "39\n",
      "40\n",
      "41\n",
      "42\n",
      "43\n",
      "44\n",
      "45\n",
      "46\n",
      "47\n",
      "48\n",
      "49\n",
      "50\n",
      "51\n",
      "52\n",
      "53\n",
      "54\n",
      "55\n",
      "56\n",
      "57\n",
      "58\n",
      "59\n",
      "60\n",
      "61\n",
      "62\n",
      "63\n",
      "64\n",
      "65\n",
      "66\n",
      "67\n",
      "68\n",
      "69\n",
      "70\n",
      "71\n",
      "72\n",
      "73\n",
      "74\n",
      "75\n",
      "76\n",
      "77\n",
      "78\n",
      "79\n",
      "80\n",
      "81\n",
      "82\n",
      "83\n",
      "84\n",
      "85\n",
      "86\n",
      "87\n",
      "88\n",
      "89\n",
      "90\n",
      "91\n",
      "92\n",
      "93\n",
      "94\n",
      "95\n",
      "96\n",
      "97\n",
      "98\n",
      "99\n",
      "100\n",
      "0.00036644935607910156\n"
     ]
    }
   ],
   "source": [
    "#Measuring time with time module\n",
    "\n",
    "import time\n",
    "\n",
    "start = time.time()\n",
    "\n",
    "for i in range(1,101):\n",
    "    print(i)\n",
    "\n",
    "print(time.time() - start)"
   ]
  },
  {
   "cell_type": "markdown",
   "id": "f6ed1fe4",
   "metadata": {},
   "source": [
    "Measuring time with time module depends on machine to machine , also the code changes will impact time. We will have to find a relationship between time and input. We wont be able to find it with actual clocked time. "
   ]
  },
  {
   "cell_type": "markdown",
   "id": "e20fbd6f",
   "metadata": {},
   "source": [
    "##### Counting Operations"
   ]
  },
  {
   "cell_type": "markdown",
   "id": "43ed88d9",
   "metadata": {},
   "source": [
    "No of operations happening in the program. This reduces the dependency on the hardware. BUt here still time varies if implementation changes. No clear defenition of ehich operation to use. "
   ]
  },
  {
   "cell_type": "markdown",
   "id": "9eeb6838",
   "metadata": {},
   "source": [
    "##### Order of Growth"
   ]
  },
  {
   "cell_type": "markdown",
   "id": "36c0753c",
   "metadata": {},
   "source": [
    "Program effeciency when the input is very big\n",
    "\n",
    "Relation between Growth of program runtime vs input size growth\n",
    "\n",
    "Worse case possiblities\n",
    "\n",
    "No need to be precise\n",
    "\n",
    "Largest factors in runtime\n"
   ]
  },
  {
   "cell_type": "markdown",
   "id": "5b7a5668",
   "metadata": {},
   "source": [
    "##### Steps to Measure Order of Growth"
   ]
  },
  {
   "cell_type": "markdown",
   "id": "3e5af06f",
   "metadata": {},
   "source": [
    "No of operations in a program\n",
    "\n",
    "Remove constants\n",
    "\n",
    "Remove multiplicative constants\n"
   ]
  },
  {
   "cell_type": "markdown",
   "id": "75fad464",
   "metadata": {},
   "source": [
    "n2 + 2n + 2 has time complexity of O(n^2)\n"
   ]
  },
  {
   "cell_type": "markdown",
   "id": "a2467497",
   "metadata": {},
   "source": [
    "### Data Structures"
   ]
  },
  {
   "cell_type": "markdown",
   "id": "b2fbcbee",
   "metadata": {},
   "source": [
    "Way to store and organise data effeciently. \n",
    "\n",
    "Need for data structures\n",
    "\n",
    "For eg: While making OS you want to add a file browser, it can be made through loops or recursion, but will be ineffecient. If you want to be effecient you can use tree data sctructure becuase tree is desgined to solve such problems. \n",
    "\n",
    "For eg: While making a browser like chrome, if you go from one website to another, and come back to the previous web pages you can use DS stack instead of anything else. \n",
    "\n",
    "Data Strcutres solves certain problems in computer science very effeciently. \n",
    "\n"
   ]
  },
  {
   "cell_type": "markdown",
   "id": "d21a9058",
   "metadata": {},
   "source": [
    "##### Linear vs Non Linear Data Structures"
   ]
  },
  {
   "cell_type": "markdown",
   "id": "f0e64d12",
   "metadata": {},
   "source": [
    "Linear : Array , Linkedlist, stacks, Queues, Hashing\n",
    "\n",
    "NOn Linear: Tree , Graphs"
   ]
  },
  {
   "cell_type": "markdown",
   "id": "b64d6715",
   "metadata": {},
   "source": [
    "##### Arrays"
   ]
  },
  {
   "cell_type": "markdown",
   "id": "d3ad5b77",
   "metadata": {},
   "source": [
    "Linear DS used to store multiple items of same type in continuous memory location\n",
    "\n",
    "Disadvantages:\n",
    "\n",
    "Fixed size\n",
    "\n",
    "Homegenous, lack of fexibility\n",
    "\n",
    "While referencial arrays can be hetrogenous\n",
    "\n",
    "Refencial arrays stores the address of elements, its called call by reference. Elements can be anything like no, string etc. \n",
    "\n",
    "Drawbacks of this: Slower, Extra Memory. \n"
   ]
  },
  {
   "cell_type": "markdown",
   "id": "0665b794",
   "metadata": {},
   "source": [
    "##### Dynamic Arrays (Interview Question)"
   ]
  },
  {
   "cell_type": "markdown",
   "id": "2b35d8c4",
   "metadata": {},
   "source": [
    "Fixed size to dynamic sized array\n",
    "\n",
    "It adjusts accordingly\n",
    "\n"
   ]
  },
  {
   "cell_type": "markdown",
   "id": "bd733267",
   "metadata": {},
   "source": [
    "Following is the example of dynamic array"
   ]
  },
  {
   "cell_type": "markdown",
   "id": "a6fb24f2",
   "metadata": {},
   "source": [
    "Below is the example of implementing python list from scratch"
   ]
  },
  {
   "cell_type": "code",
   "execution_count": 17,
   "id": "0e23933d",
   "metadata": {},
   "outputs": [],
   "source": [
    "class MeraList:\n",
    "\n",
    "  def __init__(self):\n",
    "    self.size = 1\n",
    "    self.n = 0\n",
    "    # create a C type ka array with size -> self.size\n",
    "    self.A = self.__make_array(self.size)\n",
    "\n",
    "  def __len__(self):\n",
    "    return self.n\n",
    "\n",
    "  def append(self,item):\n",
    "    # check if vacant\n",
    "    if self.n == self.size:\n",
    "      # array is full -> resize\n",
    "      self.__resize(self.size*2)\n",
    "\n",
    "    self.A[self.n] = item\n",
    "    self.n = self.n + 1\n",
    "\n",
    "  def pop(self):\n",
    "    if self.n == 0:\n",
    "      return 'Empty List'\n",
    "    print(self.A[self.n-1])\n",
    "    self.n = self.n - 1\n",
    "\n",
    "  def clear(self):\n",
    "    self.n = 0\n",
    "    self.size = 1\n",
    "\n",
    "  def find(self,item):\n",
    "\n",
    "    for i in range(self.n):\n",
    "      if self.A[i] == item:\n",
    "        return i\n",
    "    return 'ValueError - not in list'\n",
    "\n",
    "  def insert(self,pos,item):\n",
    "\n",
    "    if self.n == self.size:\n",
    "      self.__resize(self.size*2)\n",
    "\n",
    "    for i in range(self.n,pos,-1):\n",
    "      self.A[i] = self.A[i-1]\n",
    "\n",
    "    self.A[pos] = item\n",
    "    self.n = self.n + 1\n",
    "\n",
    "  def remove(self,item):\n",
    "    # search and get pos\n",
    "    pos = self.find(item)\n",
    "    if type(pos) == int:\n",
    "      # delete\n",
    "      self.__delitem__(pos)\n",
    "    else:\n",
    "      return pos\n",
    "\n",
    "  def __resize(self,new_capacity):\n",
    "    # create a new array with new capacity\n",
    "    B = self.__make_array(new_capacity)\n",
    "    self.size = new_capacity\n",
    "    # copy the content of old array to new one\n",
    "    for i in range(self.n):\n",
    "      B[i] = self.A[i]\n",
    "    # reassign A\n",
    "    self.A = B\n",
    "\n",
    "  def __str__(self):\n",
    "    result = ''\n",
    "    for i in range(self.n):\n",
    "      result = result + str(self.A[i]) + ','\n",
    "\n",
    "    return '[' + result[:-1] + ']'\n",
    "\n",
    "  def __getitem__(self,index):\n",
    "\n",
    "    if 0<= index < self.n:\n",
    "      return self.A[index]\n",
    "    else:\n",
    "      return 'IndexError'\n",
    "\n",
    "  def __delitem__(self,pos):\n",
    "    # delete pos wala item\n",
    "    if 0<= pos < self.n:\n",
    "      for i in range(pos,self.n-1):\n",
    "        self.A[i] = self.A[i+1]\n",
    "\n",
    "      self.n = self.n - 1\n",
    "\n",
    "  def __make_array(self,capacity):\n",
    "    # referential array(C type)\n",
    "    return (capacity*ctypes.py_object)()"
   ]
  },
  {
   "cell_type": "markdown",
   "id": "80e0c361",
   "metadata": {},
   "source": []
  }
 ],
 "metadata": {
  "kernelspec": {
   "display_name": "Python 3",
   "language": "python",
   "name": "python3"
  },
  "language_info": {
   "codemirror_mode": {
    "name": "ipython",
    "version": 3
   },
   "file_extension": ".py",
   "mimetype": "text/x-python",
   "name": "python",
   "nbconvert_exporter": "python",
   "pygments_lexer": "ipython3",
   "version": "3.10.12"
  }
 },
 "nbformat": 4,
 "nbformat_minor": 5
}
