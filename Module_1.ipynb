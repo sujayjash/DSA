{
 "cells": [
  {
   "cell_type": "markdown",
   "id": "3849c0ba",
   "metadata": {},
   "source": [
    "### Algorithmic Complexity"
   ]
  },
  {
   "cell_type": "markdown",
   "id": "b166294a",
   "metadata": {},
   "source": [
    "Writing efficient algos/code\n",
    "How to measure \n",
    "\n",
    "What is effeciency in Programming?\n",
    "Program which takes Less time and less space\n",
    "\n",
    "For eg. Google is the most effecient web search engine because of its page rank algo\n",
    "\n",
    "Saving time and space impacts alot in large scale thus very important to be effecient. \n",
    "\n"
   ]
  },
  {
   "cell_type": "markdown",
   "id": "c231f83a",
   "metadata": {},
   "source": [
    "#### Time Complexity"
   ]
  },
  {
   "cell_type": "markdown",
   "id": "1f923fd5",
   "metadata": {},
   "source": [
    "##### Measuring time \n",
    "\n"
   ]
  },
  {
   "cell_type": "code",
   "execution_count": 4,
   "id": "95ef9c6e",
   "metadata": {},
   "outputs": [
    {
     "name": "stdout",
     "output_type": "stream",
     "text": [
      "1\n",
      "2\n",
      "3\n",
      "4\n",
      "5\n",
      "6\n",
      "7\n",
      "8\n",
      "9\n",
      "10\n",
      "11\n",
      "12\n",
      "13\n",
      "14\n",
      "15\n",
      "16\n",
      "17\n",
      "18\n",
      "19\n",
      "20\n",
      "21\n",
      "22\n",
      "23\n",
      "24\n",
      "25\n",
      "26\n",
      "27\n",
      "28\n",
      "29\n",
      "30\n",
      "31\n",
      "32\n",
      "33\n",
      "34\n",
      "35\n",
      "36\n",
      "37\n",
      "38\n",
      "39\n",
      "40\n",
      "41\n",
      "42\n",
      "43\n",
      "44\n",
      "45\n",
      "46\n",
      "47\n",
      "48\n",
      "49\n",
      "50\n",
      "51\n",
      "52\n",
      "53\n",
      "54\n",
      "55\n",
      "56\n",
      "57\n",
      "58\n",
      "59\n",
      "60\n",
      "61\n",
      "62\n",
      "63\n",
      "64\n",
      "65\n",
      "66\n",
      "67\n",
      "68\n",
      "69\n",
      "70\n",
      "71\n",
      "72\n",
      "73\n",
      "74\n",
      "75\n",
      "76\n",
      "77\n",
      "78\n",
      "79\n",
      "80\n",
      "81\n",
      "82\n",
      "83\n",
      "84\n",
      "85\n",
      "86\n",
      "87\n",
      "88\n",
      "89\n",
      "90\n",
      "91\n",
      "92\n",
      "93\n",
      "94\n",
      "95\n",
      "96\n",
      "97\n",
      "98\n",
      "99\n",
      "100\n",
      "0.00036644935607910156\n"
     ]
    }
   ],
   "source": [
    "#Measuring time with time module\n",
    "\n",
    "import time\n",
    "\n",
    "start = time.time()\n",
    "\n",
    "for i in range(1,101):\n",
    "    print(i)\n",
    "\n",
    "print(time.time() - start)"
   ]
  },
  {
   "cell_type": "markdown",
   "id": "f6ed1fe4",
   "metadata": {},
   "source": [
    "Measuring time with time module depends on machine to machine , also the code changes will impact time. We will have to find a relationship between time and input. We wont be able to find it with actual clocked time. "
   ]
  },
  {
   "cell_type": "markdown",
   "id": "e20fbd6f",
   "metadata": {},
   "source": [
    "##### Counting Operations"
   ]
  },
  {
   "cell_type": "markdown",
   "id": "43ed88d9",
   "metadata": {},
   "source": [
    "No of operations happening in the program. This reduces the dependency on the hardware. BUt here still time varies if implementation changes. No clear defenition of ehich operation to use. "
   ]
  },
  {
   "cell_type": "markdown",
   "id": "9eeb6838",
   "metadata": {},
   "source": [
    "##### Order of Growth"
   ]
  },
  {
   "cell_type": "markdown",
   "id": "36c0753c",
   "metadata": {},
   "source": [
    "Program effeciency when the input is very big\n",
    "\n",
    "Relation between Growth of program runtime vs input size growth\n",
    "\n",
    "Worse case possiblities\n",
    "\n",
    "No need to be precise\n",
    "\n",
    "Largest factors in runtime\n"
   ]
  },
  {
   "cell_type": "markdown",
   "id": "5b7a5668",
   "metadata": {},
   "source": [
    "##### Steps to Measure Order of Growth"
   ]
  },
  {
   "cell_type": "markdown",
   "id": "3e5af06f",
   "metadata": {},
   "source": [
    "No of operations in a program\n",
    "\n",
    "Remove constants\n",
    "\n",
    "Remove multiplicative constants\n"
   ]
  },
  {
   "cell_type": "markdown",
   "id": "75fad464",
   "metadata": {},
   "source": [
    "n2 + 2n + 2 has time complexity of O(n^2)\n"
   ]
  },
  {
   "cell_type": "markdown",
   "id": "a2467497",
   "metadata": {},
   "source": [
    "### Data Structures"
   ]
  },
  {
   "cell_type": "markdown",
   "id": "b2fbcbee",
   "metadata": {},
   "source": [
    "Way to store and organise data effeciently. \n",
    "\n",
    "Need for data structures\n",
    "\n",
    "For eg: While making OS you want to add a file browser, it can be made through loops or recursion, but will be ineffecient. If you want to be effecient you can use tree data sctructure becuase tree is desgined to solve such problems. \n",
    "\n",
    "For eg: While making a browser like chrome, if you go from one website to another, and come back to the previous web pages you can use DS stack instead of anything else. \n",
    "\n",
    "Data Strcutres solves certain problems in computer science very effeciently. \n",
    "\n"
   ]
  },
  {
   "cell_type": "markdown",
   "id": "d21a9058",
   "metadata": {},
   "source": [
    "##### Linear vs Non Linear Data Structures"
   ]
  },
  {
   "cell_type": "markdown",
   "id": "f0e64d12",
   "metadata": {},
   "source": [
    "Linear : Array , Linkedlist, stacks, Queues, Hashing\n",
    "\n",
    "NOn Linear: Tree , Graphs"
   ]
  },
  {
   "cell_type": "markdown",
   "id": "b64d6715",
   "metadata": {},
   "source": [
    "##### Arrays"
   ]
  },
  {
   "cell_type": "markdown",
   "id": "d3ad5b77",
   "metadata": {},
   "source": [
    "Linear DS used to store multiple items of same type in continuous memory location\n",
    "\n",
    "Disadvantages:\n",
    "\n",
    "Fixed size\n",
    "\n",
    "Homegenous, lack of fexibility\n",
    "\n",
    "While referencial arrays can be hetrogenous\n",
    "\n",
    "Refencial arrays stores the address of elements, its called call by reference. Elements can be anything like no, string etc. \n",
    "\n",
    "Drawbacks of this: Slower, Extra Memory. \n"
   ]
  },
  {
   "cell_type": "markdown",
   "id": "0665b794",
   "metadata": {},
   "source": [
    "##### Dynamic Arrays (Interview Question)"
   ]
  },
  {
   "cell_type": "markdown",
   "id": "2b35d8c4",
   "metadata": {},
   "source": [
    "Fixed size to dynamic sized array\n",
    "\n",
    "It adjusts accordingly\n",
    "\n"
   ]
  },
  {
   "cell_type": "markdown",
   "id": "bd733267",
   "metadata": {},
   "source": [
    "Following is the example of dynamic array"
   ]
  },
  {
   "cell_type": "code",
   "execution_count": 5,
   "id": "d0e97740",
   "metadata": {},
   "outputs": [
    {
     "data": {
      "text/plain": [
       "56"
      ]
     },
     "execution_count": 5,
     "metadata": {},
     "output_type": "execute_result"
    }
   ],
   "source": [
    "L = []\n",
    "import sys \n",
    "sys.getsizeof(L)"
   ]
  },
  {
   "cell_type": "code",
   "execution_count": 6,
   "id": "0e63c1bc",
   "metadata": {},
   "outputs": [],
   "source": [
    "L.append(\"Sujay\")"
   ]
  },
  {
   "cell_type": "code",
   "execution_count": 7,
   "id": "d45300c1",
   "metadata": {},
   "outputs": [
    {
     "data": {
      "text/plain": [
       "88"
      ]
     },
     "execution_count": 7,
     "metadata": {},
     "output_type": "execute_result"
    }
   ],
   "source": [
    "sys.getsizeof(L)"
   ]
  },
  {
   "cell_type": "code",
   "execution_count": null,
   "id": "3452936f",
   "metadata": {},
   "outputs": [],
   "source": []
  },
  {
   "cell_type": "code",
   "execution_count": null,
   "id": "36ec5635",
   "metadata": {},
   "outputs": [],
   "source": []
  },
  {
   "cell_type": "markdown",
   "id": "c2ef7e1a",
   "metadata": {},
   "source": [
    "L = []"
   ]
  },
  {
   "cell_type": "markdown",
   "id": "80e0c361",
   "metadata": {},
   "source": []
  }
 ],
 "metadata": {
  "kernelspec": {
   "display_name": "Python 3",
   "language": "python",
   "name": "python3"
  },
  "language_info": {
   "codemirror_mode": {
    "name": "ipython",
    "version": 3
   },
   "file_extension": ".py",
   "mimetype": "text/x-python",
   "name": "python",
   "nbconvert_exporter": "python",
   "pygments_lexer": "ipython3",
   "version": "3.10.12"
  }
 },
 "nbformat": 4,
 "nbformat_minor": 5
}
