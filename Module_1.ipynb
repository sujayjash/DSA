{
 "cells": [
  {
   "cell_type": "markdown",
   "id": "3849c0ba",
   "metadata": {},
   "source": [
    "### Algorithmic Complexity"
   ]
  },
  {
   "cell_type": "markdown",
   "id": "b166294a",
   "metadata": {},
   "source": [
    "Writing efficient algos/code\n",
    "How to measure \n",
    "\n",
    "What is effeciency in Programming?\n",
    "Program which takes Less time and less space\n",
    "\n",
    "For eg. Google is the most effecient web search engine because of its page rank algo\n",
    "\n",
    "Saving time and space impacts alot in large scale thus very important to be effecient. \n",
    "\n"
   ]
  },
  {
   "cell_type": "markdown",
   "id": "c231f83a",
   "metadata": {},
   "source": [
    "#### Time Complexity"
   ]
  },
  {
   "cell_type": "markdown",
   "id": "1f923fd5",
   "metadata": {},
   "source": [
    "##### Measuring time \n",
    "\n"
   ]
  },
  {
   "cell_type": "code",
   "execution_count": 4,
   "id": "95ef9c6e",
   "metadata": {},
   "outputs": [
    {
     "name": "stdout",
     "output_type": "stream",
     "text": [
      "1\n",
      "2\n",
      "3\n",
      "4\n",
      "5\n",
      "6\n",
      "7\n",
      "8\n",
      "9\n",
      "10\n",
      "11\n",
      "12\n",
      "13\n",
      "14\n",
      "15\n",
      "16\n",
      "17\n",
      "18\n",
      "19\n",
      "20\n",
      "21\n",
      "22\n",
      "23\n",
      "24\n",
      "25\n",
      "26\n",
      "27\n",
      "28\n",
      "29\n",
      "30\n",
      "31\n",
      "32\n",
      "33\n",
      "34\n",
      "35\n",
      "36\n",
      "37\n",
      "38\n",
      "39\n",
      "40\n",
      "41\n",
      "42\n",
      "43\n",
      "44\n",
      "45\n",
      "46\n",
      "47\n",
      "48\n",
      "49\n",
      "50\n",
      "51\n",
      "52\n",
      "53\n",
      "54\n",
      "55\n",
      "56\n",
      "57\n",
      "58\n",
      "59\n",
      "60\n",
      "61\n",
      "62\n",
      "63\n",
      "64\n",
      "65\n",
      "66\n",
      "67\n",
      "68\n",
      "69\n",
      "70\n",
      "71\n",
      "72\n",
      "73\n",
      "74\n",
      "75\n",
      "76\n",
      "77\n",
      "78\n",
      "79\n",
      "80\n",
      "81\n",
      "82\n",
      "83\n",
      "84\n",
      "85\n",
      "86\n",
      "87\n",
      "88\n",
      "89\n",
      "90\n",
      "91\n",
      "92\n",
      "93\n",
      "94\n",
      "95\n",
      "96\n",
      "97\n",
      "98\n",
      "99\n",
      "100\n",
      "0.00036644935607910156\n"
     ]
    }
   ],
   "source": [
    "#Measuring time with time module\n",
    "\n",
    "import time\n",
    "\n",
    "start = time.time()\n",
    "\n",
    "for i in range(1,101):\n",
    "    print(i)\n",
    "\n",
    "print(time.time() - start)"
   ]
  },
  {
   "cell_type": "markdown",
   "id": "f6ed1fe4",
   "metadata": {},
   "source": [
    "Measuring time with time module depends on machine to machine , also the code changes will impact time. We will have to find a relationship between time and input. We wont be able to find it with actual clocked time. "
   ]
  },
  {
   "cell_type": "markdown",
   "id": "e20fbd6f",
   "metadata": {},
   "source": [
    "##### Counting Operations"
   ]
  },
  {
   "cell_type": "markdown",
   "id": "43ed88d9",
   "metadata": {},
   "source": [
    "No of operations happening in the program. This reduces the dependency on the hardware. BUt here still time varies if implementation changes. No clear defenition of ehich operation to use. "
   ]
  },
  {
   "cell_type": "markdown",
   "id": "9eeb6838",
   "metadata": {},
   "source": [
    "##### Order of Growth"
   ]
  },
  {
   "cell_type": "markdown",
   "id": "36c0753c",
   "metadata": {},
   "source": [
    "Program effeciency when the input is very big\n",
    "\n",
    "Relation between Growth of program runtime vs input size growth\n",
    "\n",
    "Worse case possiblities\n",
    "\n",
    "No need to be precise\n",
    "\n",
    "Largest factors in runtime\n"
   ]
  },
  {
   "cell_type": "markdown",
   "id": "5b7a5668",
   "metadata": {},
   "source": [
    "##### Steps to Measure Order of Growth"
   ]
  },
  {
   "cell_type": "markdown",
   "id": "3e5af06f",
   "metadata": {},
   "source": [
    "No of operations in a program\n",
    "\n",
    "Remove constants\n",
    "\n",
    "Remove multiplicative constants\n"
   ]
  },
  {
   "cell_type": "markdown",
   "id": "75fad464",
   "metadata": {},
   "source": [
    "n2 + 2n + 2 has time complexity of O(n^2)\n"
   ]
  },
  {
   "cell_type": "markdown",
   "id": "a2467497",
   "metadata": {},
   "source": [
    "### Data Structures"
   ]
  },
  {
   "cell_type": "markdown",
   "id": "b2fbcbee",
   "metadata": {},
   "source": [
    "Way to store and organise data effeciently. \n",
    "\n",
    "Need for data structures\n",
    "\n",
    "For eg: While making OS you want to add a file browser, it can be made through loops or recursion, but will be ineffecient. If you want to be effecient you can use tree data sctructure becuase tree is desgined to solve such problems. \n",
    "\n",
    "For eg: While making a browser like chrome, if you go from one website to another, and come back to the previous web pages you can use DS stack instead of anything else. \n",
    "\n",
    "Data Strcutres solves certain problems in computer science very effeciently. \n",
    "\n"
   ]
  },
  {
   "cell_type": "markdown",
   "id": "d21a9058",
   "metadata": {},
   "source": [
    "##### Linear vs Non Linear Data Structures"
   ]
  },
  {
   "cell_type": "markdown",
   "id": "f0e64d12",
   "metadata": {},
   "source": [
    "Linear : Array , Linkedlist, stacks, Queues, Hashing\n",
    "\n",
    "NOn Linear: Tree , Graphs"
   ]
  },
  {
   "cell_type": "markdown",
   "id": "b64d6715",
   "metadata": {},
   "source": [
    "##### Arrays"
   ]
  },
  {
   "cell_type": "markdown",
   "id": "d3ad5b77",
   "metadata": {},
   "source": [
    "Linear DS used to store multiple items of same type in continuous memory location\n",
    "\n",
    "Disadvantages:\n",
    "\n",
    "Fixed size\n",
    "\n",
    "Homegenous, lack of fexibility\n",
    "\n",
    "While referencial arrays can be hetrogenous\n",
    "\n",
    "Refencial arrays stores the address of elements, its called call by reference. Elements can be anything like no, string etc. \n",
    "\n",
    "Drawbacks of this: Slower, Extra Memory. \n"
   ]
  },
  {
   "cell_type": "markdown",
   "id": "0665b794",
   "metadata": {},
   "source": [
    "##### Dynamic Arrays (Interview Question)"
   ]
  },
  {
   "cell_type": "markdown",
   "id": "2b35d8c4",
   "metadata": {},
   "source": [
    "Fixed size to dynamic sized array\n",
    "\n",
    "It adjusts accordingly\n",
    "\n"
   ]
  },
  {
   "cell_type": "markdown",
   "id": "bd733267",
   "metadata": {},
   "source": [
    "Following is the example of dynamic array"
   ]
  },
  {
   "cell_type": "markdown",
   "id": "a6fb24f2",
   "metadata": {},
   "source": [
    "Below is the example of implementing python list from scratch"
   ]
  },
  {
   "cell_type": "code",
   "execution_count": 17,
   "id": "0e23933d",
   "metadata": {},
   "outputs": [],
   "source": [
    "class MeraList:\n",
    "\n",
    "  def __init__(self):\n",
    "    self.size = 1\n",
    "    self.n = 0\n",
    "    # create a C type ka array with size -> self.size\n",
    "    self.A = self.__make_array(self.size)\n",
    "\n",
    "  def __len__(self):\n",
    "    return self.n\n",
    "\n",
    "  def append(self,item):\n",
    "    # check if vacant\n",
    "    if self.n == self.size:\n",
    "      # array is full -> resize\n",
    "      self.__resize(self.size*2)\n",
    "\n",
    "    self.A[self.n] = item\n",
    "    self.n = self.n + 1\n",
    "\n",
    "  def pop(self):\n",
    "    if self.n == 0:\n",
    "      return 'Empty List'\n",
    "    print(self.A[self.n-1])\n",
    "    self.n = self.n - 1\n",
    "\n",
    "  def clear(self):\n",
    "    self.n = 0\n",
    "    self.size = 1\n",
    "\n",
    "  def find(self,item):\n",
    "\n",
    "    for i in range(self.n):\n",
    "      if self.A[i] == item:\n",
    "        return i\n",
    "    return 'ValueError - not in list'\n",
    "\n",
    "  def insert(self,pos,item):\n",
    "\n",
    "    if self.n == self.size:\n",
    "      self.__resize(self.size*2)\n",
    "\n",
    "    for i in range(self.n,pos,-1):\n",
    "      self.A[i] = self.A[i-1]\n",
    "\n",
    "    self.A[pos] = item\n",
    "    self.n = self.n + 1\n",
    "\n",
    "  def remove(self,item):\n",
    "    # search and get pos\n",
    "    pos = self.find(item)\n",
    "    if type(pos) == int:\n",
    "      # delete\n",
    "      self.__delitem__(pos)\n",
    "    else:\n",
    "      return pos\n",
    "\n",
    "  def __resize(self,new_capacity):\n",
    "    # create a new array with new capacity\n",
    "    B = self.__make_array(new_capacity)\n",
    "    self.size = new_capacity\n",
    "    # copy the content of old array to new one\n",
    "    for i in range(self.n):\n",
    "      B[i] = self.A[i]\n",
    "    # reassign A\n",
    "    self.A = B\n",
    "\n",
    "  def __str__(self):\n",
    "    result = ''\n",
    "    for i in range(self.n):\n",
    "      result = result + str(self.A[i]) + ','\n",
    "\n",
    "    return '[' + result[:-1] + ']'\n",
    "\n",
    "  def __getitem__(self,index):\n",
    "\n",
    "    if 0<= index < self.n:\n",
    "      return self.A[index]\n",
    "    else:\n",
    "      return 'IndexError'\n",
    "\n",
    "  def __delitem__(self,pos):\n",
    "    # delete pos wala item\n",
    "    if 0<= pos < self.n:\n",
    "      for i in range(pos,self.n-1):\n",
    "        self.A[i] = self.A[i+1]\n",
    "\n",
    "      self.n = self.n - 1\n",
    "\n",
    "  def __make_array(self,capacity):\n",
    "    # referential array(C type)\n",
    "    return (capacity*ctypes.py_object)()"
   ]
  },
  {
   "cell_type": "markdown",
   "id": "104a24e7",
   "metadata": {},
   "source": [
    "#### Linked List"
   ]
  },
  {
   "cell_type": "markdown",
   "id": "36d1e01c",
   "metadata": {},
   "source": [
    "A Linear Data Structure storing data and object \n",
    "\n",
    "Linked list is collection of nodes\n",
    "\n",
    "Node is the collection of object\n",
    "\n",
    "Nodes has 2 things, data and address\n",
    "\n",
    "Data can be string, float, int etc. \n",
    "\n",
    "Address has next node address. \n",
    "\n",
    "Fro eg:\n",
    "\n",
    "d-700   a-900  c-800\n",
    "\n",
    "Why Linked List? Why not arrays??\n",
    "\n",
    "While inserting, deleting elemt in an array we had to shift other items too. Thus too many operations, applicatiob where write operations are more here liked list are suitable. \n",
    "\n",
    "Array has fixed size, write opearations happen in N time. Liked list solves this, performs write operation in constant time. \n",
    "\n",
    "Read heavy operations use array, where as write heavy operations use linked list.\n",
    "\n",
    "Linked list doesnt need continous memory unlike arrays, Linked list can use fragmented memory\n"
   ]
  },
  {
   "cell_type": "code",
   "execution_count": 18,
   "id": "ea6f9bdd",
   "metadata": {},
   "outputs": [],
   "source": [
    "class Node:\n",
    "\n",
    "    def __init__(self , value):\n",
    "\n",
    "        self.data = value\n",
    "        self.next = None\n",
    "\n",
    "        "
   ]
  },
  {
   "cell_type": "code",
   "execution_count": 19,
   "id": "be69a87a",
   "metadata": {},
   "outputs": [],
   "source": [
    "a = Node(1)"
   ]
  },
  {
   "cell_type": "code",
   "execution_count": 20,
   "id": "f07e1f9d",
   "metadata": {},
   "outputs": [
    {
     "name": "stdout",
     "output_type": "stream",
     "text": [
      "<__main__.Node object at 0x754414266e00>\n"
     ]
    }
   ],
   "source": [
    "print(a)"
   ]
  },
  {
   "cell_type": "code",
   "execution_count": 21,
   "id": "aafd4561",
   "metadata": {},
   "outputs": [
    {
     "name": "stdout",
     "output_type": "stream",
     "text": [
      "None\n"
     ]
    }
   ],
   "source": [
    "print(a.next)"
   ]
  },
  {
   "cell_type": "code",
   "execution_count": 22,
   "id": "77341598",
   "metadata": {},
   "outputs": [],
   "source": [
    "b = Node(2)\n",
    "c = Node(3)\n"
   ]
  },
  {
   "cell_type": "markdown",
   "id": "02bf02b5",
   "metadata": {},
   "source": [
    "Now these three nodes a b c do not make a linked list as all have next value as None. if we inset each other adress in the nodes in place of none they can be a linked list"
   ]
  },
  {
   "cell_type": "code",
   "execution_count": 23,
   "id": "f887515a",
   "metadata": {},
   "outputs": [
    {
     "data": {
      "text/plain": [
       "128935256288768"
      ]
     },
     "execution_count": 23,
     "metadata": {},
     "output_type": "execute_result"
    }
   ],
   "source": [
    "id(a)"
   ]
  },
  {
   "cell_type": "code",
   "execution_count": 24,
   "id": "eac95eda",
   "metadata": {},
   "outputs": [
    {
     "data": {
      "text/plain": [
       "128935256291168"
      ]
     },
     "execution_count": 24,
     "metadata": {},
     "output_type": "execute_result"
    }
   ],
   "source": [
    "id(b)"
   ]
  },
  {
   "cell_type": "code",
   "execution_count": 25,
   "id": "738a8d62",
   "metadata": {},
   "outputs": [
    {
     "data": {
      "text/plain": [
       "128935256284400"
      ]
     },
     "execution_count": 25,
     "metadata": {},
     "output_type": "execute_result"
    }
   ],
   "source": [
    "id(c)"
   ]
  },
  {
   "cell_type": "code",
   "execution_count": 26,
   "id": "5e2bed7e",
   "metadata": {},
   "outputs": [],
   "source": [
    "a.next = b\n",
    "b.next = c"
   ]
  },
  {
   "cell_type": "code",
   "execution_count": 27,
   "id": "c2a0ee07",
   "metadata": {},
   "outputs": [
    {
     "name": "stdout",
     "output_type": "stream",
     "text": [
      "<__main__.Node object at 0x754414267760>\n"
     ]
    }
   ],
   "source": [
    "print(a.next)"
   ]
  },
  {
   "cell_type": "code",
   "execution_count": 28,
   "id": "620f5563",
   "metadata": {},
   "outputs": [
    {
     "data": {
      "text/plain": [
       "128935256291168"
      ]
     },
     "execution_count": 28,
     "metadata": {},
     "output_type": "execute_result"
    }
   ],
   "source": [
    "int(0x754414267760)"
   ]
  },
  {
   "cell_type": "markdown",
   "id": "1dd678ef",
   "metadata": {},
   "source": [
    "Making liked list"
   ]
  },
  {
   "cell_type": "code",
   "execution_count": 29,
   "id": "4017beda",
   "metadata": {},
   "outputs": [],
   "source": [
    "class LinkedList:\n",
    "\n",
    "  def __init__(self):\n",
    "\n",
    "    # Empty Linked List\n",
    "    self.head = None\n",
    "    # no of nodes in the LL\n",
    "    self.n = 0\n",
    "\n",
    "  def __len__(self):\n",
    "    return self.n\n",
    "\n",
    "  def insert_head(self,value):\n",
    "\n",
    "    # new node\n",
    "    new_node = Node(value)\n",
    "\n",
    "    # create connection\n",
    "    new_node.next = self.head\n",
    "\n",
    "    # reassign head\n",
    "    self.head = new_node\n",
    "\n",
    "    # increment n\n",
    "    self.n = self.n + 1\n",
    "\n",
    "  def __str__(self):\n",
    "\n",
    "    curr = self.head\n",
    "\n",
    "    result = ''\n",
    "\n",
    "    while curr != None:\n",
    "      result = result + str(curr.data) + '->'\n",
    "      curr = curr.next\n",
    "\n",
    "    return result[:-2]\n",
    "\n",
    "  def append(self,value):\n",
    "\n",
    "    new_node = Node(value)\n",
    "\n",
    "    if self.head == None:\n",
    "      # empty\n",
    "      self.head = new_node\n",
    "      self.n = self.n + 1\n",
    "      return\n",
    "\n",
    "    curr = self.head\n",
    "\n",
    "    while curr.next != None:\n",
    "      curr = curr.next\n",
    "\n",
    "    # you are at the last node\n",
    "    curr.next = new_node\n",
    "    self.n = self.n + 1\n",
    "\n",
    "  def insert_after(self,after,value):\n",
    "\n",
    "    new_node = Node(value)\n",
    "\n",
    "    curr = self.head\n",
    "\n",
    "    while curr != None:\n",
    "      if curr.data == after:\n",
    "        break\n",
    "      curr = curr.next\n",
    "\n",
    "    if curr != None:\n",
    "      new_node.next = curr.next\n",
    "      curr.next = new_node\n",
    "      self.n = self.n + 1\n",
    "    else:\n",
    "      return 'Item not found'\n",
    "\n",
    "  def clear(self):\n",
    "    self.head = None\n",
    "    self.n = 0\n",
    "\n",
    "  def delete_head(self):\n",
    "\n",
    "    if self.head == None:\n",
    "      # empty\n",
    "      return 'Empty LL'\n",
    "\n",
    "    self.head = self.head.next\n",
    "    self.n = self.n - 1\n",
    "\n",
    "  def pop(self):\n",
    "\n",
    "    if self.head == None:\n",
    "      # empty\n",
    "      return 'Empty LL'\n",
    "\n",
    "    curr = self.head\n",
    "\n",
    "    # kya linked list me 1 item hai?\n",
    "    if curr.next == None:\n",
    "      # head hi hoga(delete from head)\n",
    "      return self.delete_head()\n",
    "      \n",
    "\n",
    "    while curr.next.next != None:\n",
    "      curr = curr.next\n",
    "\n",
    "    # curr -> 2nd last node\n",
    "    curr.next = None\n",
    "    self.n = self.n - 1\n",
    "\n",
    "  def remove(self,value):\n",
    "\n",
    "    if self.head == None:\n",
    "      return 'Empty LL'\n",
    "\n",
    "    if self.head.data == value:\n",
    "      # you want to remove the head node\n",
    "      return self.delete_head()\n",
    "\n",
    "    curr = self.head\n",
    "\n",
    "    while curr.next != None:\n",
    "      if curr.next.data == value:\n",
    "        break\n",
    "      curr = curr.next\n",
    "\n",
    "    # 2 cases item mil gaya\n",
    "    # item nai mila\n",
    "    if curr.next == None:\n",
    "      # item nai mila\n",
    "      return 'Not Found'\n",
    "    else:\n",
    "      curr.next = curr.next.next\n",
    "      self.n = self.n - 1\n",
    "\n",
    "  def search(self,item):\n",
    "\n",
    "    curr = self.head\n",
    "    pos = 0\n",
    "\n",
    "    while curr != None:\n",
    "      if curr.data == item:\n",
    "        return pos\n",
    "      curr = curr.next\n",
    "      pos = pos + 1\n",
    "\n",
    "    return 'Not Found'\n",
    "\n",
    "  def __getitem__(self,index):\n",
    "\n",
    "    curr = self.head\n",
    "    pos = 0\n",
    "\n",
    "    while curr != None:\n",
    "      if pos == index:\n",
    "        return curr.data\n",
    "      curr = curr.next\n",
    "      pos = pos + 1\n",
    "\n",
    "    return 'IndexError'\n"
   ]
  },
  {
   "cell_type": "code",
   "execution_count": 30,
   "id": "2c65aad5",
   "metadata": {},
   "outputs": [],
   "source": [
    "L = LinkedList()"
   ]
  },
  {
   "cell_type": "code",
   "execution_count": 31,
   "id": "bf065bb1",
   "metadata": {},
   "outputs": [],
   "source": [
    "L.insert_head(1)\n",
    "L.insert_head(2)\n",
    "L.insert_head(3)\n",
    "L.insert_head(4)\n"
   ]
  },
  {
   "cell_type": "code",
   "execution_count": 32,
   "id": "386bb51b",
   "metadata": {},
   "outputs": [
    {
     "data": {
      "text/plain": [
       "4"
      ]
     },
     "execution_count": 32,
     "metadata": {},
     "output_type": "execute_result"
    }
   ],
   "source": [
    "len(L)"
   ]
  },
  {
   "cell_type": "code",
   "execution_count": 33,
   "id": "bc38392b",
   "metadata": {},
   "outputs": [],
   "source": [
    "L.append(5)"
   ]
  },
  {
   "cell_type": "code",
   "execution_count": 35,
   "id": "f3a3aa30",
   "metadata": {},
   "outputs": [
    {
     "data": {
      "text/plain": [
       "5"
      ]
     },
     "execution_count": 35,
     "metadata": {},
     "output_type": "execute_result"
    }
   ],
   "source": [
    "len(L)"
   ]
  },
  {
   "cell_type": "code",
   "execution_count": 36,
   "id": "41bde8c6",
   "metadata": {},
   "outputs": [],
   "source": [
    "L.insert_after(1,200)"
   ]
  },
  {
   "cell_type": "code",
   "execution_count": 37,
   "id": "fb1c5337",
   "metadata": {},
   "outputs": [
    {
     "name": "stdout",
     "output_type": "stream",
     "text": [
      "4->3->2->1->200->5\n"
     ]
    }
   ],
   "source": [
    "print(L)"
   ]
  },
  {
   "cell_type": "code",
   "execution_count": 42,
   "id": "b2644113",
   "metadata": {},
   "outputs": [],
   "source": [
    "L.delete_head()\n"
   ]
  },
  {
   "cell_type": "code",
   "execution_count": 43,
   "id": "503dd5f4",
   "metadata": {},
   "outputs": [
    {
     "name": "stdout",
     "output_type": "stream",
     "text": [
      "1->200->5\n"
     ]
    }
   ],
   "source": [
    "print(L)"
   ]
  },
  {
   "cell_type": "code",
   "execution_count": null,
   "id": "cca6d037",
   "metadata": {},
   "outputs": [],
   "source": []
  }
 ],
 "metadata": {
  "kernelspec": {
   "display_name": "Python 3",
   "language": "python",
   "name": "python3"
  },
  "language_info": {
   "codemirror_mode": {
    "name": "ipython",
    "version": 3
   },
   "file_extension": ".py",
   "mimetype": "text/x-python",
   "name": "python",
   "nbconvert_exporter": "python",
   "pygments_lexer": "ipython3",
   "version": "3.10.12"
  }
 },
 "nbformat": 4,
 "nbformat_minor": 5
}
